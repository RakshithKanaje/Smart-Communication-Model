{
 "cells": [
  {
   "cell_type": "code",
   "execution_count": 2,
   "id": "29c23586-95f3-4ec0-b349-f98851c23e8f",
   "metadata": {},
   "outputs": [
    {
     "name": "stdout",
     "output_type": "stream",
     "text": [
      "[10, 20, 30, 40]\n",
      "[10, 20, 30, 40, 'apple']\n"
     ]
    }
   ],
   "source": [
    "x=[10,20,30,40]\n",
    "print(x)\n",
    "x.append(\"apple\")\n",
    "print(x)"
   ]
  },
  {
   "cell_type": "code",
   "execution_count": 3,
   "id": "f603b34d-5874-4dcf-a7d1-a4729c6b4ea6",
   "metadata": {},
   "outputs": [
    {
     "name": "stdout",
     "output_type": "stream",
     "text": [
      "[10, 20, 30, 40, 'apple', 'm', 'a', 'n', 'g', 'o']\n"
     ]
    }
   ],
   "source": [
    "x.extend(\"mango\")\n",
    "print(x)"
   ]
  },
  {
   "cell_type": "code",
   "execution_count": 4,
   "id": "43f5ec36-b8a5-43f8-a3fa-3ccb1d44e660",
   "metadata": {},
   "outputs": [
    {
     "name": "stdout",
     "output_type": "stream",
     "text": [
      "[10, 20, 30, 40, 'apple', 'm', 'a', 'n', 'g']\n"
     ]
    }
   ],
   "source": [
    "x.pop(9)\n",
    "print(x)"
   ]
  },
  {
   "cell_type": "code",
   "execution_count": 5,
   "id": "c76e374b-4078-45e1-8afc-787bd937b66d",
   "metadata": {},
   "outputs": [
    {
     "name": "stdout",
     "output_type": "stream",
     "text": [
      "[10, 20, 30, 40, 'apple', 'a', 'n', 'g']\n"
     ]
    }
   ],
   "source": [
    "x.remove('m')\n",
    "print(x)"
   ]
  },
  {
   "cell_type": "code",
   "execution_count": 6,
   "id": "79d70cd0-fcbd-4bfa-b563-c783c096c331",
   "metadata": {},
   "outputs": [
    {
     "name": "stdout",
     "output_type": "stream",
     "text": [
      "[]\n"
     ]
    }
   ],
   "source": [
    "x.clear()\n",
    "print(x)"
   ]
  },
  {
   "cell_type": "code",
   "execution_count": 7,
   "id": "2a844895-14dd-485a-8b4b-856202e80dd9",
   "metadata": {},
   "outputs": [
    {
     "name": "stdout",
     "output_type": "stream",
     "text": [
      "['apple', 'banana', 'orange', 'mango']\n"
     ]
    }
   ],
   "source": [
    "x=[\"apple\",\"banana\",\"orange\",\"mango\"]\n",
    "print(x.copy())"
   ]
  },
  {
   "cell_type": "code",
   "execution_count": 9,
   "id": "eab3bae0-c4da-47fe-8454-b05f6e3df96d",
   "metadata": {},
   "outputs": [
    {
     "name": "stdout",
     "output_type": "stream",
     "text": [
      "[1, 2, 3, 6, 7, 8, 8, 9, 10, 20, 25, 26, 67, 87, 88, 98, 100]\n"
     ]
    }
   ],
   "source": [
    "x=[9,20,1,8,7,25,67,2,10,3,6,8,100,87,98,26,88]\n",
    "x.sort()\n",
    "print(x)"
   ]
  },
  {
   "cell_type": "code",
   "execution_count": 10,
   "id": "2e2196e1-5cbb-4b90-b9aa-849a3a377fe6",
   "metadata": {},
   "outputs": [
    {
     "name": "stdout",
     "output_type": "stream",
     "text": [
      "[100, 98, 88, 87, 67, 26, 25, 20, 10, 9, 8, 8, 7, 6, 3, 2, 1]\n"
     ]
    }
   ],
   "source": [
    "x.sort(reverse=True)\n",
    "print(x)"
   ]
  },
  {
   "cell_type": "code",
   "execution_count": 11,
   "id": "aea696f3-9ad4-4eb4-b20f-01f7419fb59f",
   "metadata": {},
   "outputs": [
    {
     "name": "stdout",
     "output_type": "stream",
     "text": [
      "apple\n",
      "banana\n",
      "manago\n",
      "orange\n",
      "graphes\n"
     ]
    }
   ],
   "source": [
    "x=[\"apple\",\"banana\",\"manago\",\"orange\",\"graphes\"]\n",
    "for i in x:\n",
    "    print(i)"
   ]
  },
  {
   "cell_type": "code",
   "execution_count": 13,
   "id": "197fbbb2-74d4-4e8e-abe9-93e39fc222d9",
   "metadata": {},
   "outputs": [
    {
     "name": "stdout",
     "output_type": "stream",
     "text": [
      "['apple', 'banana', 'manago', 'pineapple', 'graphes']\n"
     ]
    }
   ],
   "source": [
    "x=[\"apple\",\"banana\",\"manago\",\"orange\",\"graphes\"]\n",
    "x[3]=\"pineapple\"\n",
    "print(x)"
   ]
  },
  {
   "cell_type": "code",
   "execution_count": 15,
   "id": "041c2576-5431-480f-ba26-8b0abbca7f21",
   "metadata": {},
   "outputs": [
    {
     "name": "stdout",
     "output_type": "stream",
     "text": [
      "(10, 20, 30, 40)\n"
     ]
    }
   ],
   "source": [
    "x=(10,20,30,40)\n",
    "print(x)"
   ]
  },
  {
   "cell_type": "code",
   "execution_count": 16,
   "id": "fe11f15f-1846-44ca-928f-54464bfaea42",
   "metadata": {},
   "outputs": [
    {
     "name": "stdout",
     "output_type": "stream",
     "text": [
      "30\n"
     ]
    }
   ],
   "source": [
    "print(x[2])"
   ]
  },
  {
   "cell_type": "code",
   "execution_count": null,
   "id": "5d8425b8-67e9-4262-96a3-4e91efd1b715",
   "metadata": {},
   "outputs": [],
   "source": []
  }
 ],
 "metadata": {
  "kernelspec": {
   "display_name": "Python 3 (ipykernel)",
   "language": "python",
   "name": "python3"
  },
  "language_info": {
   "codemirror_mode": {
    "name": "ipython",
    "version": 3
   },
   "file_extension": ".py",
   "mimetype": "text/x-python",
   "name": "python",
   "nbconvert_exporter": "python",
   "pygments_lexer": "ipython3",
   "version": "3.9.0"
  }
 },
 "nbformat": 4,
 "nbformat_minor": 5
}
